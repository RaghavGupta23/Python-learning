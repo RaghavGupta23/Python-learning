{
  "cells": [
    {
      "metadata": {
        "_uuid": "8f2839f25d086af736a60e9eeb907d3b93b6e0e5",
        "_cell_guid": "b1076dfc-b9ad-4769-8c92-a6c4dae69d19",
        "trusted": true
      },
      "cell_type": "code",
      "source": "# This Python 3 environment comes with many helpful analytics libraries installed\n# It is defined by the kaggle/python docker image: https://github.com/kaggle/docker-python\n# For example, here's several helpful packages to load in \n\nimport numpy as np # linear algebra\nimport pandas as pd # data processing, CSV file I/O (e.g. pd.read_csv)\n\n# Input data files are available in the \"../input/\" directory.\n# For example, running this (by clicking run or pressing Shift+Enter) will list the files in the input directory\n\nimport os\nprint(os.listdir(\"../input\"))\n\n# Any results you write to the current directory are saved as output.",
      "execution_count": null,
      "outputs": []
    },
    {
      "metadata": {
        "_cell_guid": "79c7e3d0-c299-4dcb-8224-4455121ee9b0",
        "collapsed": true,
        "_uuid": "d629ff2d2480ee46fbb7e2d37f6b5fab8052498a",
        "trusted": false
      },
      "cell_type": "markdown",
      "source": "# Functions of List, Tuple and Set"
    },
    {
      "metadata": {
        "_uuid": "1c5681e17cd5490f52921e2551db01b554a84c78"
      },
      "cell_type": "markdown",
      "source": "## Functions of list"
    },
    {
      "metadata": {
        "trusted": true,
        "_uuid": "0d5cee569ecb516a5e5fc6ce24d8e76ac7b926fd"
      },
      "cell_type": "code",
      "source": "##### Add Single Element to the list\nlist_var.append",
      "execution_count": null,
      "outputs": []
    },
    {
      "metadata": {
        "trusted": true,
        "_uuid": "8ae40e7819e6ed928d39edcf68b7095dcb157c40"
      },
      "cell_type": "code",
      "source": "##### Add Elements of a list to another list\nlist_var.extend",
      "execution_count": null,
      "outputs": []
    },
    {
      "metadata": {
        "trusted": true,
        "_uuid": "d3ad23160d2c12d38bb7f673013288bdfecf566c"
      },
      "cell_type": "code",
      "source": "##### Insert Element to the list\nlist_var.insert",
      "execution_count": null,
      "outputs": []
    },
    {
      "metadata": {
        "trusted": true,
        "_uuid": "733f401ffe084aea89935ecc8767e5bfc9454b6f"
      },
      "cell_type": "code",
      "source": "##### Remove Element to the list\nlist_var.remove",
      "execution_count": null,
      "outputs": []
    },
    {
      "metadata": {
        "trusted": true,
        "_uuid": "bfa8ad2d36ab8281569f62ac5d1c100636ebbea4"
      },
      "cell_type": "code",
      "source": "##### returns smallest index of element in list\nlist_var.index",
      "execution_count": null,
      "outputs": []
    },
    {
      "metadata": {
        "trusted": true,
        "_uuid": "971de29484575fe5f7f3d29a6b6a89a5841dc1c0"
      },
      "cell_type": "code",
      "source": "##### returns occurrences of element in a list\nlist_var.count",
      "execution_count": null,
      "outputs": []
    },
    {
      "metadata": {
        "trusted": true,
        "_uuid": "cba4ff8e87e6d235f217e3eeb98f023667da94d6"
      },
      "cell_type": "code",
      "source": "##### Removes Element at Given Index\nlist_var.pop",
      "execution_count": null,
      "outputs": []
    },
    {
      "metadata": {
        "trusted": true,
        "_uuid": "224ed8426d3d9eb524c52700d0143ff2e44bbec3"
      },
      "cell_type": "code",
      "source": "##### Reverses a list\n\nlist_var.reverse",
      "execution_count": null,
      "outputs": []
    },
    {
      "metadata": {
        "trusted": true,
        "_uuid": "e79f0f14c1ea38b2118dfdc3c37330f752fbbbe6"
      },
      "cell_type": "code",
      "source": "#####  sorts elements of a list\nlist_var.sort",
      "execution_count": null,
      "outputs": []
    },
    {
      "metadata": {
        "trusted": true,
        "_uuid": "6724692aecc9c30cda8676a37d4dcd1bc42cd234"
      },
      "cell_type": "code",
      "source": "##### Returns Shallow Copy of a List\nlist_var.copy",
      "execution_count": null,
      "outputs": []
    },
    {
      "metadata": {
        "trusted": true,
        "_uuid": "7c01eade84017c95c32f17a666159e0a97c56072"
      },
      "cell_type": "code",
      "source": "##### Removes all Items from the List\nlist_var.clear",
      "execution_count": null,
      "outputs": []
    },
    {
      "metadata": {
        "trusted": true,
        "_uuid": "26e462685533980fd448df9013b863aea910cf49"
      },
      "cell_type": "code",
      "source": "##### Checks if any Element of an Iterable is True\nlist_var.any",
      "execution_count": null,
      "outputs": []
    },
    {
      "metadata": {
        "trusted": true,
        "_uuid": "d666db4cecc36e3cc279ed622ca5ab2467312a8c"
      },
      "cell_type": "code",
      "source": "##### returns true when all elements in iterable is true\nlist_var.all",
      "execution_count": null,
      "outputs": []
    },
    {
      "metadata": {
        "trusted": true,
        "_uuid": "1add2ef0d3a19cf377ed546ec42d6f3aa64e2166"
      },
      "cell_type": "code",
      "source": "##### Returns String Containing Printable Representation\nlist_var.ascii",
      "execution_count": null,
      "outputs": []
    },
    {
      "metadata": {
        "trusted": true,
        "_uuid": "9b72e7accccec2677cda4f9d1892bd989711deb8"
      },
      "cell_type": "code",
      "source": "##### Converts a Value to Boolean\nlist_var.bool",
      "execution_count": null,
      "outputs": []
    },
    {
      "metadata": {
        "trusted": true,
        "_uuid": "4f047e2cfb39cddb9d1bc86868cd45aec4a802a1"
      },
      "cell_type": "code",
      "source": "##### Returns an Enumerate Object\nlist_var.enumerate",
      "execution_count": null,
      "outputs": []
    },
    {
      "metadata": {
        "trusted": true,
        "_uuid": "bd12fcb5a1c568c556777f2c89603bb379bb8e52"
      },
      "cell_type": "code",
      "source": "##### constructs iterator from elements which are true\nlist_var.filter",
      "execution_count": null,
      "outputs": []
    },
    {
      "metadata": {
        "trusted": true,
        "_uuid": "30233fcd7f1f463393b0c4cf7116c1de9067dfa2"
      },
      "cell_type": "code",
      "source": "##### returns iterator for an object\nlist_var.iter",
      "execution_count": null,
      "outputs": []
    },
    {
      "metadata": {
        "trusted": true,
        "_uuid": "f94d747d1230e2360cddd75fc95d4515215ca2e9"
      },
      "cell_type": "code",
      "source": "##### Returns Length of an Object\nlist_var.len",
      "execution_count": null,
      "outputs": []
    },
    {
      "metadata": {
        "trusted": true,
        "_uuid": "c31a32ed45ddd3029147279ba3be25d76ec524f9"
      },
      "cell_type": "code",
      "source": "##### returns largest element\nlist_var.max",
      "execution_count": null,
      "outputs": []
    },
    {
      "metadata": {
        "trusted": true,
        "_uuid": "076b009fa80c0400a0af6ce5f8d1c35594c2f985"
      },
      "cell_type": "code",
      "source": "##### \treturns smallest element\nlist_var.min",
      "execution_count": null,
      "outputs": []
    },
    {
      "metadata": {
        "trusted": true,
        "_uuid": "a4f34c46704aa1cf9a4496abdf59bf685d250ee3"
      },
      "cell_type": "code",
      "source": "##### Applies Function and Returns a List\nlist_var.map",
      "execution_count": null,
      "outputs": []
    },
    {
      "metadata": {
        "trusted": true,
        "_uuid": "6b77f3e815a7505380965dbe03fe5a2aaa8c2bdd"
      },
      "cell_type": "code",
      "source": "##### returns reversed iterator of a sequence\nlist_var.revesed",
      "execution_count": null,
      "outputs": []
    },
    {
      "metadata": {
        "trusted": true,
        "_uuid": "19c18859342a92109705a7e3a0270299e67c96f9"
      },
      "cell_type": "code",
      "source": "##### creates a slice object specified by range()\nlist_var.slice",
      "execution_count": null,
      "outputs": []
    },
    {
      "metadata": {
        "trusted": true,
        "_uuid": "1ce1ae58fc9bc0a9c761e85bca46564e2ecfb053"
      },
      "cell_type": "code",
      "source": "##### returns sorted list from a given iterable\nlist_var.sorted",
      "execution_count": null,
      "outputs": []
    },
    {
      "metadata": {
        "trusted": true,
        "_uuid": "57a982b26af682342269b8631d04ef077739ae10"
      },
      "cell_type": "code",
      "source": "##### Add items of an Iterable\nlist_var.sum",
      "execution_count": null,
      "outputs": []
    },
    {
      "metadata": {
        "trusted": true,
        "_uuid": "8950a23872141e4918174afe0f2ed55be37aa8cb"
      },
      "cell_type": "code",
      "source": "##### Returns an Iterator of Tuples\nlist_var.sum",
      "execution_count": null,
      "outputs": []
    },
    {
      "metadata": {
        "_uuid": "0f2a3a461a58d89b0ee3f2409da910a35f5419c5"
      },
      "cell_type": "markdown",
      "source": "## Functions of tuple"
    },
    {
      "metadata": {
        "trusted": true,
        "_uuid": "d1f583a0f45a5e677199acff0be29bbf2fc2fb74"
      },
      "cell_type": "code",
      "source": "##### Checks if any Element of an Iterable is True\ntuple_var.any",
      "execution_count": null,
      "outputs": []
    },
    {
      "metadata": {
        "trusted": true,
        "_uuid": "baad891c926c22b847c0d60cda1f62cde55c925a"
      },
      "cell_type": "code",
      "source": "##### returns true when all elements in iterable is true\ntuple_var.all",
      "execution_count": null,
      "outputs": []
    },
    {
      "metadata": {
        "trusted": true,
        "_uuid": "e09b5650f9c7d83664d8db0c05720b89085a8854"
      },
      "cell_type": "code",
      "source": "##### returns true when all elements in iterable is true\ntuple_var.ascii",
      "execution_count": null,
      "outputs": []
    },
    {
      "metadata": {
        "trusted": true,
        "_uuid": "4131669b136bf09c925f8b86a199139b58c4fd0e"
      },
      "cell_type": "code",
      "source": "##### Converts a Value to Boolean\ntuple_var.bool",
      "execution_count": null,
      "outputs": []
    },
    {
      "metadata": {
        "trusted": true,
        "_uuid": "ee556ca18ec8b811c53fd2c795076c95074fc9fb"
      },
      "cell_type": "code",
      "source": "##### Returns an Enumerate Object\ntuple_var.enumerate",
      "execution_count": null,
      "outputs": []
    },
    {
      "metadata": {
        "trusted": true,
        "_uuid": "85d2c9a1cbdd5fcd74c5c9172a851093b73bf58b"
      },
      "cell_type": "code",
      "source": "##### constructs iterator from elements which are true\ntuple_var.filter",
      "execution_count": null,
      "outputs": []
    },
    {
      "metadata": {
        "trusted": true,
        "_uuid": "24ccc9f8a6a037e95a1cf2c3b3d615707b88551d"
      },
      "cell_type": "code",
      "source": "##### returns iterator for an object\ntuple_var.iter",
      "execution_count": null,
      "outputs": []
    },
    {
      "metadata": {
        "trusted": true,
        "_uuid": "93a13f63f4082c80933787e4e692092fe3c5841a"
      },
      "cell_type": "code",
      "source": "##### returns iterator for an object\ntuple_var.len",
      "execution_count": null,
      "outputs": []
    },
    {
      "metadata": {
        "trusted": true,
        "_uuid": "4075bb40ac3580b229959475af03716ddea202c6"
      },
      "cell_type": "code",
      "source": "##### returns largest element\ntuple_var.max",
      "execution_count": null,
      "outputs": []
    },
    {
      "metadata": {
        "trusted": true,
        "_uuid": "3b9b9e1a52dfdd48192135a4b86304bc520a8c6e"
      },
      "cell_type": "code",
      "source": "##### returns smallest element\ntuple_var.min",
      "execution_count": null,
      "outputs": []
    },
    {
      "metadata": {
        "trusted": true,
        "_uuid": "d004ef8855ae659070fa50193eec2fe96501e1b8"
      },
      "cell_type": "code",
      "source": "##### Applies Function and Returns a List\ntuple_var.map",
      "execution_count": null,
      "outputs": []
    },
    {
      "metadata": {
        "trusted": true,
        "_uuid": "252bd184297133d7441b8ce449a57265f1a1b605"
      },
      "cell_type": "code",
      "source": "##### returns reversed iterator of a sequence\ntuple_var.reversed",
      "execution_count": null,
      "outputs": []
    },
    {
      "metadata": {
        "trusted": true,
        "_uuid": "61badff6f8614867869b81892acc127cdd50d4b5"
      },
      "cell_type": "code",
      "source": "##### creates a slice object specified by range()\ntuple_var.slice",
      "execution_count": null,
      "outputs": []
    },
    {
      "metadata": {
        "trusted": true,
        "_uuid": "0bd12a6cb117372f5360a9f04945c9f5b6656ca4"
      },
      "cell_type": "code",
      "source": "##### returns sorted list from a given iterable\ntuple_var.sorted",
      "execution_count": null,
      "outputs": []
    },
    {
      "metadata": {
        "trusted": true,
        "_uuid": "c16dcb2c9d7b4d8aade7ed7e32e392b3152d23a1"
      },
      "cell_type": "code",
      "source": "##### Add items of an Iterable\ntuple_var.sum",
      "execution_count": null,
      "outputs": []
    },
    {
      "metadata": {
        "trusted": true,
        "_uuid": "3e079209ed317200537c41779cb2982705f0ced6"
      },
      "cell_type": "code",
      "source": "##### Returns an Iterator of Tuple\ntuple_var.zip",
      "execution_count": null,
      "outputs": []
    },
    {
      "metadata": {
        "_uuid": "2c95c845cc5935a912b2325df994fed1168c20c0"
      },
      "cell_type": "markdown",
      "source": "## Functions of set"
    },
    {
      "metadata": {
        "trusted": true,
        "_uuid": "63ef6faa0afe464d2d7720f9b16663bf3e58bf17"
      },
      "cell_type": "code",
      "source": "##### Removes Element from the Set\nset_var.remove",
      "execution_count": null,
      "outputs": []
    },
    {
      "metadata": {
        "trusted": true,
        "_uuid": "b5594d07f6399f18ea9428e77248646ef2508550"
      },
      "cell_type": "code",
      "source": "##### adds element to a set\nset_var.add",
      "execution_count": null,
      "outputs": []
    },
    {
      "metadata": {
        "trusted": true,
        "_uuid": "ecf8dd107df39fe75051625186f12f000d7c1a72"
      },
      "cell_type": "code",
      "source": "##### Returns Shallow Copy of a Set\nset_var.copy",
      "execution_count": null,
      "outputs": []
    },
    {
      "metadata": {
        "trusted": true,
        "_uuid": "3a9f2805adbad788e4c246bdb0c4c7f098c0085b"
      },
      "cell_type": "code",
      "source": "##### remove all elements from a set\nset_var.clear",
      "execution_count": null,
      "outputs": []
    },
    {
      "metadata": {
        "trusted": true,
        "_uuid": "22f9a85a47eb281a2cebf5bca084d6885f77fc81"
      },
      "cell_type": "code",
      "source": "##### Returns Difference of Two Sets\nset_var.difference",
      "execution_count": null,
      "outputs": []
    },
    {
      "metadata": {
        "trusted": true,
        "_uuid": "9b2f4a57418b95cd59b24b584a726be86c869578"
      },
      "cell_type": "code",
      "source": "##### Updates Calling Set With Intersection of Sets\nset_var.difference_update",
      "execution_count": null,
      "outputs": []
    },
    {
      "metadata": {
        "trusted": true,
        "_uuid": "672a603a10891cb0b330d64b95d37c43d712f9d9"
      },
      "cell_type": "code",
      "source": "##### Removes an Element from The Set\nset_var.discard",
      "execution_count": null,
      "outputs": []
    },
    {
      "metadata": {
        "trusted": true,
        "_uuid": "3309d7926c1284ac88d2929910133b24e129acfd"
      },
      "cell_type": "code",
      "source": "##### Returns Intersection of Two or More Sets\nset_var.intersection",
      "execution_count": null,
      "outputs": []
    },
    {
      "metadata": {
        "trusted": true,
        "_uuid": "76946fcd6f6b8edc2d23ba03eb4f6a508f0b0e2d"
      },
      "cell_type": "code",
      "source": "##### Updates Calling Set With Intersection of Sets\nset_var.intersection_update",
      "execution_count": null,
      "outputs": []
    },
    {
      "metadata": {
        "trusted": true,
        "_uuid": "441e706e4e18fa8d5ae1269fb6f62daaa7164650"
      },
      "cell_type": "code",
      "source": "##### Checks Disjoint Sets\nset_var.isdisjoint",
      "execution_count": null,
      "outputs": []
    },
    {
      "metadata": {
        "trusted": true,
        "_uuid": "b13e945992f7967e0c5bbfed1d9f28ee113fa2f9"
      },
      "cell_type": "code",
      "source": "##### Checks if a Set is Subset of Another Set\nset_var.issubset",
      "execution_count": null,
      "outputs": []
    },
    {
      "metadata": {
        "trusted": true,
        "_uuid": "bbc4990e101cff5a6be32c1e4b27fe296cab02ab"
      },
      "cell_type": "code",
      "source": "##### Checks if a Set is Superset of Another Set\nset_var.issuperset",
      "execution_count": null,
      "outputs": []
    },
    {
      "metadata": {
        "trusted": true,
        "_uuid": "cd355602811b30e9923cb1990963ff4767978bf5"
      },
      "cell_type": "code",
      "source": "##### Removes an Arbitrary Element\nset_var.pop",
      "execution_count": null,
      "outputs": []
    },
    {
      "metadata": {
        "trusted": true,
        "_uuid": "e3248d615ff78f606057f352730f54f29cd70fdd"
      },
      "cell_type": "code",
      "source": "##### Returns Symmetric Difference\nset_var.symmetric_difference",
      "execution_count": null,
      "outputs": []
    },
    {
      "metadata": {
        "trusted": true,
        "_uuid": "19ac3c4fa2a94ae3c49e1accdad64ca4ce17eef0"
      },
      "cell_type": "code",
      "source": "##### Updates Set With Symmetric Difference\nSet_var.symmetric_difference_update()",
      "execution_count": null,
      "outputs": []
    },
    {
      "metadata": {
        "trusted": true,
        "_uuid": "ad7fe245d7cc60a789948b791e163d41589497d9"
      },
      "cell_type": "code",
      "source": "##### Returns Union of Sets\nset_var.union",
      "execution_count": null,
      "outputs": []
    },
    {
      "metadata": {
        "trusted": true,
        "_uuid": "ed9acdef8adabed250a0702c08405f678ea41476"
      },
      "cell_type": "code",
      "source": "##### Add Elements to The Set\nset_var.update",
      "execution_count": null,
      "outputs": []
    },
    {
      "metadata": {
        "trusted": true,
        "_uuid": "431b5d9a1ed8a29b2dc4e14d74f853f5fa12ae48"
      },
      "cell_type": "code",
      "source": "##### Checks if any Element of an Iterable is True\nset_var.any",
      "execution_count": null,
      "outputs": []
    },
    {
      "metadata": {
        "trusted": true,
        "_uuid": "f7c04cdb5d3bce2dbaf34e29b59f9dbe415ca932"
      },
      "cell_type": "code",
      "source": "##### \treturns true when all elements in iterable is true\nset_var.all",
      "execution_count": null,
      "outputs": []
    },
    {
      "metadata": {
        "trusted": true,
        "_uuid": "0a081b63b289d405869e9bfe431578b64a3e532b"
      },
      "cell_type": "code",
      "source": "##### \tReturns String Containing Printable Representation\nset_var.ascii",
      "execution_count": null,
      "outputs": []
    },
    {
      "metadata": {
        "trusted": true,
        "_uuid": "4eff6c5c70eb30dfd2941753e743a2829aef6933"
      },
      "cell_type": "code",
      "source": "##### Converts a Value to Boolean\nset_var.bool",
      "execution_count": null,
      "outputs": []
    },
    {
      "metadata": {
        "trusted": true,
        "_uuid": "cd217c03640238c0aa56b185dd31f4005cf9bd63"
      },
      "cell_type": "code",
      "source": "##### Returns an Enumerate Object\nset_var.enumerate",
      "execution_count": null,
      "outputs": []
    },
    {
      "metadata": {
        "trusted": true,
        "_uuid": "0d78ea6ddd683b64bec1833c60814eb02cf1d941"
      },
      "cell_type": "code",
      "source": "##### constructs iterator from elements which are true\nset_var.filter",
      "execution_count": null,
      "outputs": []
    },
    {
      "metadata": {
        "trusted": true,
        "_uuid": "d4b4f83c34279c9c6396556c0cb60ad98962801f"
      },
      "cell_type": "code",
      "source": "##### returns immutable frozenset object\nset_var.frozenset",
      "execution_count": null,
      "outputs": []
    },
    {
      "metadata": {
        "trusted": true,
        "_uuid": "30a04c9601b4df4507c3000174897483a97ec91a"
      },
      "cell_type": "code",
      "source": "##### returns iterator for an object\nset_var.iter",
      "execution_count": null,
      "outputs": []
    },
    {
      "metadata": {
        "trusted": true,
        "_uuid": "3f62b45d278183333099521c72bad674f7348ad1"
      },
      "cell_type": "code",
      "source": "##### Returns Length of an Object\nset_var.len",
      "execution_count": null,
      "outputs": []
    },
    {
      "metadata": {
        "trusted": true,
        "_uuid": "aa2cf8b924fea696428efcbc102c4daed3a74a1e"
      },
      "cell_type": "code",
      "source": "##### \treturns largest element\nset_var.max",
      "execution_count": null,
      "outputs": []
    },
    {
      "metadata": {
        "trusted": true,
        "_uuid": "9c275b6be14330f193f9a376d968541ef8156553"
      },
      "cell_type": "code",
      "source": "##### returns smallest element\nset_var.min",
      "execution_count": null,
      "outputs": []
    },
    {
      "metadata": {
        "trusted": true,
        "_uuid": "5a1a22cbc34bec6aabcb836f6417b61b24a65832"
      },
      "cell_type": "code",
      "source": "##### \tApplies Function and Returns a List\nset_var.map",
      "execution_count": null,
      "outputs": []
    },
    {
      "metadata": {
        "trusted": true,
        "_uuid": "2436705cf6fbb919ef1a170fcbd790fc337838e5"
      },
      "cell_type": "code",
      "source": "##### returns a Python set\nset_var.set",
      "execution_count": null,
      "outputs": []
    },
    {
      "metadata": {
        "trusted": true,
        "_uuid": "45c5901de409e5f25ecab5c2f616e2853c7e3fcb"
      },
      "cell_type": "code",
      "source": "##### returns sorted list from a given iterable\nset_var.sorted",
      "execution_count": null,
      "outputs": []
    },
    {
      "metadata": {
        "trusted": true,
        "_uuid": "82022f57905a49270dc6e1912f6cd7f942e93777"
      },
      "cell_type": "code",
      "source": "##### \tAdd items of an Iterable\nset_var.sum",
      "execution_count": null,
      "outputs": []
    },
    {
      "metadata": {
        "trusted": true,
        "_uuid": "aa988c73b4798e915078b442de813cf042137ce8"
      },
      "cell_type": "code",
      "source": "##### Returns an Iterator of Tuples\nset_var.zip",
      "execution_count": null,
      "outputs": []
    },
    {
      "metadata": {
        "trusted": true,
        "_uuid": "11f4ded7d5fd5b62d8c0472d46fb92142637e312"
      },
      "cell_type": "code",
      "source": "",
      "execution_count": null,
      "outputs": []
    }
  ],
  "metadata": {
    "kernelspec": {
      "display_name": "Python 3",
      "language": "python",
      "name": "python3"
    },
    "language_info": {
      "name": "python",
      "version": "3.6.6",
      "mimetype": "text/x-python",
      "codemirror_mode": {
        "name": "ipython",
        "version": 3
      },
      "pygments_lexer": "ipython3",
      "nbconvert_exporter": "python",
      "file_extension": ".py"
    }
  },
  "nbformat": 4,
  "nbformat_minor": 1
}