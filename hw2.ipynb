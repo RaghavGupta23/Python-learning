{
  "cells": [
    {
      "metadata": {
        "_uuid": "8f2839f25d086af736a60e9eeb907d3b93b6e0e5",
        "_cell_guid": "b1076dfc-b9ad-4769-8c92-a6c4dae69d19",
        "trusted": true
      },
      "cell_type": "code",
      "source": "# This Python 3 environment comes with many helpful analytics libraries installed\n# It is defined by the kaggle/python docker image: https://github.com/kaggle/docker-python\n# For example, here's several helpful packages to load in \n\nimport numpy as np # linear algebra\nimport pandas as pd # data processing, CSV file I/O (e.g. pd.read_csv)\n\n# Input data files are available in the \"../input/\" directory.\n# For example, running this (by clicking run or pressing Shift+Enter) will list the files in the input directory\n\nimport os\nprint(os.listdir(\"../input\"))\n\n# Any results you write to the current directory are saved as output.",
      "execution_count": null,
      "outputs": []
    },
    {
      "metadata": {
        "_cell_guid": "79c7e3d0-c299-4dcb-8224-4455121ee9b0",
        "collapsed": true,
        "_uuid": "d629ff2d2480ee46fbb7e2d37f6b5fab8052498a",
        "trusted": false
      },
      "cell_type": "markdown",
      "source": "# HW 2"
    },
    {
      "metadata": {
        "_uuid": "43a5d97fa5a3518795418664c52cf94453200f24"
      },
      "cell_type": "markdown",
      "source": "## Question1: How to execute a user-defined addition function by passing just one parameter? (How to pass default arguments in Python?)"
    },
    {
      "metadata": {
        "trusted": true,
        "_uuid": "5f32dd94ddf43ee8dcce7bee7fbda7e9f5f93ed8"
      },
      "cell_type": "code",
      "source": "def add(a, b=0):\n    print(a+b)",
      "execution_count": 2,
      "outputs": []
    },
    {
      "metadata": {
        "trusted": true,
        "_uuid": "e7eb84413fcba776c05f271cba03163a2e9fcfb9"
      },
      "cell_type": "code",
      "source": "add(50)",
      "execution_count": 3,
      "outputs": [
        {
          "output_type": "stream",
          "text": "50\n",
          "name": "stdout"
        }
      ]
    },
    {
      "metadata": {
        "_uuid": "cd51db2a0a4df1eefbfbfed4ea7cdf87734343bb"
      },
      "cell_type": "markdown",
      "source": "## Question2: Write a function to check whether or not a number lies within a specified condition."
    },
    {
      "metadata": {
        "trusted": true,
        "_uuid": "f5ebd6d70432527434c83fdd83296ed9c6a7a34e"
      },
      "cell_type": "code",
      "source": "def check_for_odd_N_even(x):\n    if (x%2 == 0):\n        print(\"it is even\")\n    else:\n        (print(\"it is odd\"))",
      "execution_count": 15,
      "outputs": []
    },
    {
      "metadata": {
        "trusted": true,
        "_uuid": "3e1c6f72c02d3962d112471fba23264c8888cc14"
      },
      "cell_type": "code",
      "source": "check_for_odd_N_even(0)",
      "execution_count": 17,
      "outputs": [
        {
          "output_type": "stream",
          "text": "it is even\n",
          "name": "stdout"
        }
      ]
    },
    {
      "metadata": {
        "trusted": true,
        "_uuid": "969d15461e7d675d2e167d450d00f46ae3c1e915"
      },
      "cell_type": "code",
      "source": "",
      "execution_count": null,
      "outputs": []
    }
  ],
  "metadata": {
    "kernelspec": {
      "display_name": "Python 3",
      "language": "python",
      "name": "python3"
    },
    "language_info": {
      "name": "python",
      "version": "3.6.6",
      "mimetype": "text/x-python",
      "codemirror_mode": {
        "name": "ipython",
        "version": 3
      },
      "pygments_lexer": "ipython3",
      "nbconvert_exporter": "python",
      "file_extension": ".py"
    }
  },
  "nbformat": 4,
  "nbformat_minor": 1
}